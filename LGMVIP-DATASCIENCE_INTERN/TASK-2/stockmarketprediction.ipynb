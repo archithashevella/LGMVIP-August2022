{
  "nbformat": 4,
  "nbformat_minor": 0,
  "metadata": {
    "colab": {
      "name": "stockmarketprediction.ipynb",
      "provenance": []
    },
    "kernelspec": {
      "name": "python3",
      "display_name": "Python 3"
    },
    "language_info": {
      "name": "python"
    }
  },
  "cells": [
    {
      "cell_type": "markdown",
      "source": [
        "LetsGrowMore-August2022\n",
        "\n",
        "Architha Shevella-Data Science Intern\n",
        "\n",
        "Stock Market Prediction and Forcasting using Stacked LSTM"
      ],
      "metadata": {
        "id": "J9PGntSOTZZT"
      }
    },
    {
      "cell_type": "code",
      "source": [
        "from google.colab import drive\n",
        "drive.mount('/content/drive')"
      ],
      "metadata": {
        "id": "pst8Ss8gUheI"
      },
      "execution_count": null,
      "outputs": []
    },
    {
      "cell_type": "markdown",
      "source": [
        "Importing the required libraries"
      ],
      "metadata": {
        "id": "5bXj8URnPi1c"
      }
    },
    {
      "cell_type": "code",
      "execution_count": 2,
      "metadata": {
        "id": "tw9_kiE3E9Lr"
      },
      "outputs": [],
      "source": [
        "import pandas as pd\n",
        "import numpy as np \n",
        "import matplotlib.pyplot as plt\n",
        "import tensorflow as tf\n",
        "from sklearn.preprocessing import MinMaxScaler\n",
        "\n",
        "# Ignoring warnings\n",
        "import warnings\n",
        "warnings.filterwarnings(\"ignore\")"
      ]
    },
    {
      "cell_type": "markdown",
      "source": [
        "Reading the Data"
      ],
      "metadata": {
        "id": "noaGbb44P6Bf"
      }
    },
    {
      "cell_type": "code",
      "source": [
        "dataset_link = \"nse.csv\"\n",
        "data = pd.read_csv(dataset_link)\n",
        "data.head()"
      ],
      "metadata": {
        "colab": {
          "base_uri": "https://localhost:8080/",
          "height": 206
        },
        "id": "NHDghc06P-zc",
        "outputId": "8e9a5bed-21b5-4c11-e594-48264aa9e7e0"
      },
      "execution_count": 3,
      "outputs": [
        {
          "output_type": "execute_result",
          "data": {
            "text/plain": [
              "         Date    Open    High     Low    Last   Close  Total Trade Quantity  \\\n",
              "0  2018-09-28  234.05  235.95  230.20  233.50  233.75               3069914   \n",
              "1  2018-09-27  234.55  236.80  231.10  233.80  233.25               5082859   \n",
              "2  2018-09-26  240.00  240.00  232.50  235.00  234.25               2240909   \n",
              "3  2018-09-25  233.30  236.75  232.00  236.25  236.10               2349368   \n",
              "4  2018-09-24  233.55  239.20  230.75  234.00  233.30               3423509   \n",
              "\n",
              "   Turnover (Lacs)  \n",
              "0          7162.35  \n",
              "1         11859.95  \n",
              "2          5248.60  \n",
              "3          5503.90  \n",
              "4          7999.55  "
            ],
            "text/html": [
              "\n",
              "  <div id=\"df-12f0ccf2-e2ac-4711-a25a-9b8beb461e4d\">\n",
              "    <div class=\"colab-df-container\">\n",
              "      <div>\n",
              "<style scoped>\n",
              "    .dataframe tbody tr th:only-of-type {\n",
              "        vertical-align: middle;\n",
              "    }\n",
              "\n",
              "    .dataframe tbody tr th {\n",
              "        vertical-align: top;\n",
              "    }\n",
              "\n",
              "    .dataframe thead th {\n",
              "        text-align: right;\n",
              "    }\n",
              "</style>\n",
              "<table border=\"1\" class=\"dataframe\">\n",
              "  <thead>\n",
              "    <tr style=\"text-align: right;\">\n",
              "      <th></th>\n",
              "      <th>Date</th>\n",
              "      <th>Open</th>\n",
              "      <th>High</th>\n",
              "      <th>Low</th>\n",
              "      <th>Last</th>\n",
              "      <th>Close</th>\n",
              "      <th>Total Trade Quantity</th>\n",
              "      <th>Turnover (Lacs)</th>\n",
              "    </tr>\n",
              "  </thead>\n",
              "  <tbody>\n",
              "    <tr>\n",
              "      <th>0</th>\n",
              "      <td>2018-09-28</td>\n",
              "      <td>234.05</td>\n",
              "      <td>235.95</td>\n",
              "      <td>230.20</td>\n",
              "      <td>233.50</td>\n",
              "      <td>233.75</td>\n",
              "      <td>3069914</td>\n",
              "      <td>7162.35</td>\n",
              "    </tr>\n",
              "    <tr>\n",
              "      <th>1</th>\n",
              "      <td>2018-09-27</td>\n",
              "      <td>234.55</td>\n",
              "      <td>236.80</td>\n",
              "      <td>231.10</td>\n",
              "      <td>233.80</td>\n",
              "      <td>233.25</td>\n",
              "      <td>5082859</td>\n",
              "      <td>11859.95</td>\n",
              "    </tr>\n",
              "    <tr>\n",
              "      <th>2</th>\n",
              "      <td>2018-09-26</td>\n",
              "      <td>240.00</td>\n",
              "      <td>240.00</td>\n",
              "      <td>232.50</td>\n",
              "      <td>235.00</td>\n",
              "      <td>234.25</td>\n",
              "      <td>2240909</td>\n",
              "      <td>5248.60</td>\n",
              "    </tr>\n",
              "    <tr>\n",
              "      <th>3</th>\n",
              "      <td>2018-09-25</td>\n",
              "      <td>233.30</td>\n",
              "      <td>236.75</td>\n",
              "      <td>232.00</td>\n",
              "      <td>236.25</td>\n",
              "      <td>236.10</td>\n",
              "      <td>2349368</td>\n",
              "      <td>5503.90</td>\n",
              "    </tr>\n",
              "    <tr>\n",
              "      <th>4</th>\n",
              "      <td>2018-09-24</td>\n",
              "      <td>233.55</td>\n",
              "      <td>239.20</td>\n",
              "      <td>230.75</td>\n",
              "      <td>234.00</td>\n",
              "      <td>233.30</td>\n",
              "      <td>3423509</td>\n",
              "      <td>7999.55</td>\n",
              "    </tr>\n",
              "  </tbody>\n",
              "</table>\n",
              "</div>\n",
              "      <button class=\"colab-df-convert\" onclick=\"convertToInteractive('df-12f0ccf2-e2ac-4711-a25a-9b8beb461e4d')\"\n",
              "              title=\"Convert this dataframe to an interactive table.\"\n",
              "              style=\"display:none;\">\n",
              "        \n",
              "  <svg xmlns=\"http://www.w3.org/2000/svg\" height=\"24px\"viewBox=\"0 0 24 24\"\n",
              "       width=\"24px\">\n",
              "    <path d=\"M0 0h24v24H0V0z\" fill=\"none\"/>\n",
              "    <path d=\"M18.56 5.44l.94 2.06.94-2.06 2.06-.94-2.06-.94-.94-2.06-.94 2.06-2.06.94zm-11 1L8.5 8.5l.94-2.06 2.06-.94-2.06-.94L8.5 2.5l-.94 2.06-2.06.94zm10 10l.94 2.06.94-2.06 2.06-.94-2.06-.94-.94-2.06-.94 2.06-2.06.94z\"/><path d=\"M17.41 7.96l-1.37-1.37c-.4-.4-.92-.59-1.43-.59-.52 0-1.04.2-1.43.59L10.3 9.45l-7.72 7.72c-.78.78-.78 2.05 0 2.83L4 21.41c.39.39.9.59 1.41.59.51 0 1.02-.2 1.41-.59l7.78-7.78 2.81-2.81c.8-.78.8-2.07 0-2.86zM5.41 20L4 18.59l7.72-7.72 1.47 1.35L5.41 20z\"/>\n",
              "  </svg>\n",
              "      </button>\n",
              "      \n",
              "  <style>\n",
              "    .colab-df-container {\n",
              "      display:flex;\n",
              "      flex-wrap:wrap;\n",
              "      gap: 12px;\n",
              "    }\n",
              "\n",
              "    .colab-df-convert {\n",
              "      background-color: #E8F0FE;\n",
              "      border: none;\n",
              "      border-radius: 50%;\n",
              "      cursor: pointer;\n",
              "      display: none;\n",
              "      fill: #1967D2;\n",
              "      height: 32px;\n",
              "      padding: 0 0 0 0;\n",
              "      width: 32px;\n",
              "    }\n",
              "\n",
              "    .colab-df-convert:hover {\n",
              "      background-color: #E2EBFA;\n",
              "      box-shadow: 0px 1px 2px rgba(60, 64, 67, 0.3), 0px 1px 3px 1px rgba(60, 64, 67, 0.15);\n",
              "      fill: #174EA6;\n",
              "    }\n",
              "\n",
              "    [theme=dark] .colab-df-convert {\n",
              "      background-color: #3B4455;\n",
              "      fill: #D2E3FC;\n",
              "    }\n",
              "\n",
              "    [theme=dark] .colab-df-convert:hover {\n",
              "      background-color: #434B5C;\n",
              "      box-shadow: 0px 1px 3px 1px rgba(0, 0, 0, 0.15);\n",
              "      filter: drop-shadow(0px 1px 2px rgba(0, 0, 0, 0.3));\n",
              "      fill: #FFFFFF;\n",
              "    }\n",
              "  </style>\n",
              "\n",
              "      <script>\n",
              "        const buttonEl =\n",
              "          document.querySelector('#df-12f0ccf2-e2ac-4711-a25a-9b8beb461e4d button.colab-df-convert');\n",
              "        buttonEl.style.display =\n",
              "          google.colab.kernel.accessAllowed ? 'block' : 'none';\n",
              "\n",
              "        async function convertToInteractive(key) {\n",
              "          const element = document.querySelector('#df-12f0ccf2-e2ac-4711-a25a-9b8beb461e4d');\n",
              "          const dataTable =\n",
              "            await google.colab.kernel.invokeFunction('convertToInteractive',\n",
              "                                                     [key], {});\n",
              "          if (!dataTable) return;\n",
              "\n",
              "          const docLinkHtml = 'Like what you see? Visit the ' +\n",
              "            '<a target=\"_blank\" href=https://colab.research.google.com/notebooks/data_table.ipynb>data table notebook</a>'\n",
              "            + ' to learn more about interactive tables.';\n",
              "          element.innerHTML = '';\n",
              "          dataTable['output_type'] = 'display_data';\n",
              "          await google.colab.output.renderOutput(dataTable, element);\n",
              "          const docLink = document.createElement('div');\n",
              "          docLink.innerHTML = docLinkHtml;\n",
              "          element.appendChild(docLink);\n",
              "        }\n",
              "      </script>\n",
              "    </div>\n",
              "  </div>\n",
              "  "
            ]
          },
          "metadata": {},
          "execution_count": 3
        }
      ]
    },
    {
      "cell_type": "markdown",
      "source": [
        "Exploring Data and Making required changes for better understanding "
      ],
      "metadata": {
        "id": "X7NLMJDfQmA0"
      }
    },
    {
      "cell_type": "code",
      "source": [
        "data.isnull().sum()\n",
        "# No null values so we can proceed"
      ],
      "metadata": {
        "colab": {
          "base_uri": "https://localhost:8080/"
        },
        "id": "5Uvg3JT0QzL-",
        "outputId": "070f4406-59af-46e0-ce49-eb437838884b"
      },
      "execution_count": 4,
      "outputs": [
        {
          "output_type": "execute_result",
          "data": {
            "text/plain": [
              "Date                    0\n",
              "Open                    0\n",
              "High                    0\n",
              "Low                     0\n",
              "Last                    0\n",
              "Close                   0\n",
              "Total Trade Quantity    0\n",
              "Turnover (Lacs)         0\n",
              "dtype: int64"
            ]
          },
          "metadata": {},
          "execution_count": 4
        }
      ]
    },
    {
      "cell_type": "code",
      "source": [
        "data['Date'] = pd.to_datetime(data['Date'])"
      ],
      "metadata": {
        "id": "WBvz8dDNQ5M-"
      },
      "execution_count": 5,
      "outputs": []
    },
    {
      "cell_type": "code",
      "source": [
        "df = data.sort_values('Date')\n",
        "df.head()"
      ],
      "metadata": {
        "colab": {
          "base_uri": "https://localhost:8080/",
          "height": 206
        },
        "id": "FE_5d5fGQ8pU",
        "outputId": "3055302a-d5b8-4321-d3a8-1b716f1fb5e0"
      },
      "execution_count": 6,
      "outputs": [
        {
          "output_type": "execute_result",
          "data": {
            "text/plain": [
              "           Date   Open    High     Low    Last   Close  Total Trade Quantity  \\\n",
              "2034 2010-07-21  122.1  123.00  121.05  121.10  121.55                658666   \n",
              "2033 2010-07-22  120.3  122.00  120.25  120.75  120.90                293312   \n",
              "2032 2010-07-23  121.8  121.95  120.25  120.35  120.65                281312   \n",
              "2031 2010-07-26  120.1  121.00  117.10  117.10  117.60                658440   \n",
              "2030 2010-07-27  117.6  119.50  112.00  118.80  118.65                586100   \n",
              "\n",
              "      Turnover (Lacs)  \n",
              "2034           803.56  \n",
              "2033           355.17  \n",
              "2032           340.31  \n",
              "2031           780.01  \n",
              "2030           694.98  "
            ],
            "text/html": [
              "\n",
              "  <div id=\"df-ff4fccd6-87ef-4ff2-ac65-507c49359cdf\">\n",
              "    <div class=\"colab-df-container\">\n",
              "      <div>\n",
              "<style scoped>\n",
              "    .dataframe tbody tr th:only-of-type {\n",
              "        vertical-align: middle;\n",
              "    }\n",
              "\n",
              "    .dataframe tbody tr th {\n",
              "        vertical-align: top;\n",
              "    }\n",
              "\n",
              "    .dataframe thead th {\n",
              "        text-align: right;\n",
              "    }\n",
              "</style>\n",
              "<table border=\"1\" class=\"dataframe\">\n",
              "  <thead>\n",
              "    <tr style=\"text-align: right;\">\n",
              "      <th></th>\n",
              "      <th>Date</th>\n",
              "      <th>Open</th>\n",
              "      <th>High</th>\n",
              "      <th>Low</th>\n",
              "      <th>Last</th>\n",
              "      <th>Close</th>\n",
              "      <th>Total Trade Quantity</th>\n",
              "      <th>Turnover (Lacs)</th>\n",
              "    </tr>\n",
              "  </thead>\n",
              "  <tbody>\n",
              "    <tr>\n",
              "      <th>2034</th>\n",
              "      <td>2010-07-21</td>\n",
              "      <td>122.1</td>\n",
              "      <td>123.00</td>\n",
              "      <td>121.05</td>\n",
              "      <td>121.10</td>\n",
              "      <td>121.55</td>\n",
              "      <td>658666</td>\n",
              "      <td>803.56</td>\n",
              "    </tr>\n",
              "    <tr>\n",
              "      <th>2033</th>\n",
              "      <td>2010-07-22</td>\n",
              "      <td>120.3</td>\n",
              "      <td>122.00</td>\n",
              "      <td>120.25</td>\n",
              "      <td>120.75</td>\n",
              "      <td>120.90</td>\n",
              "      <td>293312</td>\n",
              "      <td>355.17</td>\n",
              "    </tr>\n",
              "    <tr>\n",
              "      <th>2032</th>\n",
              "      <td>2010-07-23</td>\n",
              "      <td>121.8</td>\n",
              "      <td>121.95</td>\n",
              "      <td>120.25</td>\n",
              "      <td>120.35</td>\n",
              "      <td>120.65</td>\n",
              "      <td>281312</td>\n",
              "      <td>340.31</td>\n",
              "    </tr>\n",
              "    <tr>\n",
              "      <th>2031</th>\n",
              "      <td>2010-07-26</td>\n",
              "      <td>120.1</td>\n",
              "      <td>121.00</td>\n",
              "      <td>117.10</td>\n",
              "      <td>117.10</td>\n",
              "      <td>117.60</td>\n",
              "      <td>658440</td>\n",
              "      <td>780.01</td>\n",
              "    </tr>\n",
              "    <tr>\n",
              "      <th>2030</th>\n",
              "      <td>2010-07-27</td>\n",
              "      <td>117.6</td>\n",
              "      <td>119.50</td>\n",
              "      <td>112.00</td>\n",
              "      <td>118.80</td>\n",
              "      <td>118.65</td>\n",
              "      <td>586100</td>\n",
              "      <td>694.98</td>\n",
              "    </tr>\n",
              "  </tbody>\n",
              "</table>\n",
              "</div>\n",
              "      <button class=\"colab-df-convert\" onclick=\"convertToInteractive('df-ff4fccd6-87ef-4ff2-ac65-507c49359cdf')\"\n",
              "              title=\"Convert this dataframe to an interactive table.\"\n",
              "              style=\"display:none;\">\n",
              "        \n",
              "  <svg xmlns=\"http://www.w3.org/2000/svg\" height=\"24px\"viewBox=\"0 0 24 24\"\n",
              "       width=\"24px\">\n",
              "    <path d=\"M0 0h24v24H0V0z\" fill=\"none\"/>\n",
              "    <path d=\"M18.56 5.44l.94 2.06.94-2.06 2.06-.94-2.06-.94-.94-2.06-.94 2.06-2.06.94zm-11 1L8.5 8.5l.94-2.06 2.06-.94-2.06-.94L8.5 2.5l-.94 2.06-2.06.94zm10 10l.94 2.06.94-2.06 2.06-.94-2.06-.94-.94-2.06-.94 2.06-2.06.94z\"/><path d=\"M17.41 7.96l-1.37-1.37c-.4-.4-.92-.59-1.43-.59-.52 0-1.04.2-1.43.59L10.3 9.45l-7.72 7.72c-.78.78-.78 2.05 0 2.83L4 21.41c.39.39.9.59 1.41.59.51 0 1.02-.2 1.41-.59l7.78-7.78 2.81-2.81c.8-.78.8-2.07 0-2.86zM5.41 20L4 18.59l7.72-7.72 1.47 1.35L5.41 20z\"/>\n",
              "  </svg>\n",
              "      </button>\n",
              "      \n",
              "  <style>\n",
              "    .colab-df-container {\n",
              "      display:flex;\n",
              "      flex-wrap:wrap;\n",
              "      gap: 12px;\n",
              "    }\n",
              "\n",
              "    .colab-df-convert {\n",
              "      background-color: #E8F0FE;\n",
              "      border: none;\n",
              "      border-radius: 50%;\n",
              "      cursor: pointer;\n",
              "      display: none;\n",
              "      fill: #1967D2;\n",
              "      height: 32px;\n",
              "      padding: 0 0 0 0;\n",
              "      width: 32px;\n",
              "    }\n",
              "\n",
              "    .colab-df-convert:hover {\n",
              "      background-color: #E2EBFA;\n",
              "      box-shadow: 0px 1px 2px rgba(60, 64, 67, 0.3), 0px 1px 3px 1px rgba(60, 64, 67, 0.15);\n",
              "      fill: #174EA6;\n",
              "    }\n",
              "\n",
              "    [theme=dark] .colab-df-convert {\n",
              "      background-color: #3B4455;\n",
              "      fill: #D2E3FC;\n",
              "    }\n",
              "\n",
              "    [theme=dark] .colab-df-convert:hover {\n",
              "      background-color: #434B5C;\n",
              "      box-shadow: 0px 1px 3px 1px rgba(0, 0, 0, 0.15);\n",
              "      filter: drop-shadow(0px 1px 2px rgba(0, 0, 0, 0.3));\n",
              "      fill: #FFFFFF;\n",
              "    }\n",
              "  </style>\n",
              "\n",
              "      <script>\n",
              "        const buttonEl =\n",
              "          document.querySelector('#df-ff4fccd6-87ef-4ff2-ac65-507c49359cdf button.colab-df-convert');\n",
              "        buttonEl.style.display =\n",
              "          google.colab.kernel.accessAllowed ? 'block' : 'none';\n",
              "\n",
              "        async function convertToInteractive(key) {\n",
              "          const element = document.querySelector('#df-ff4fccd6-87ef-4ff2-ac65-507c49359cdf');\n",
              "          const dataTable =\n",
              "            await google.colab.kernel.invokeFunction('convertToInteractive',\n",
              "                                                     [key], {});\n",
              "          if (!dataTable) return;\n",
              "\n",
              "          const docLinkHtml = 'Like what you see? Visit the ' +\n",
              "            '<a target=\"_blank\" href=https://colab.research.google.com/notebooks/data_table.ipynb>data table notebook</a>'\n",
              "            + ' to learn more about interactive tables.';\n",
              "          element.innerHTML = '';\n",
              "          dataTable['output_type'] = 'display_data';\n",
              "          await google.colab.output.renderOutput(dataTable, element);\n",
              "          const docLink = document.createElement('div');\n",
              "          docLink.innerHTML = docLinkHtml;\n",
              "          element.appendChild(docLink);\n",
              "        }\n",
              "      </script>\n",
              "    </div>\n",
              "  </div>\n",
              "  "
            ]
          },
          "metadata": {},
          "execution_count": 6
        }
      ]
    },
    {
      "cell_type": "code",
      "source": [
        "df.reset_index(inplace=True)"
      ],
      "metadata": {
        "id": "tP0plsflQ_Bl"
      },
      "execution_count": 7,
      "outputs": []
    },
    {
      "cell_type": "markdown",
      "source": [
        "Visualizing the Data"
      ],
      "metadata": {
        "id": "rj2_wlIwRC7l"
      }
    },
    {
      "cell_type": "code",
      "source": [
        "plt.plot(df['Close'])"
      ],
      "metadata": {
        "colab": {
          "base_uri": "https://localhost:8080/",
          "height": 282
        },
        "id": "y8umgUZIRGWh",
        "outputId": "be96a88e-80a0-42b9-d3c9-cccf2f004874"
      },
      "execution_count": 8,
      "outputs": [
        {
          "output_type": "execute_result",
          "data": {
            "text/plain": [
              "[<matplotlib.lines.Line2D at 0x7eff17f41d50>]"
            ]
          },
          "metadata": {},
          "execution_count": 8
        },
        {
          "output_type": "display_data",
          "data": {
            "text/plain": [
              "<Figure size 432x288 with 1 Axes>"
            ],
            "image/png": "[encoded data removed]"
          },
          "metadata": {
            "needs_background": "light"
          }
        }
      ]
    },
    {
      "cell_type": "code",
      "source": [
        "df_close = df['Close']\n",
        "df_close"
      ],
      "metadata": {
        "colab": {
          "base_uri": "https://localhost:8080/"
        },
        "id": "gnZmQ-k4RK2d",
        "outputId": "b2999764-94db-49dd-af4e-8d82837f6ee4"
      },
      "execution_count": 9,
      "outputs": [
        {
          "output_type": "execute_result",
          "data": {
            "text/plain": [
              "0       121.55\n",
              "1       120.90\n",
              "2       120.65\n",
              "3       117.60\n",
              "4       118.65\n",
              "         ...  \n",
              "2030    233.30\n",
              "2031    236.10\n",
              "2032    234.25\n",
              "2033    233.25\n",
              "2034    233.75\n",
              "Name: Close, Length: 2035, dtype: float64"
            ]
          },
          "metadata": {},
          "execution_count": 9
        }
      ]
    },
    {
      "cell_type": "code",
      "source": [
        "scaler = MinMaxScaler(feature_range=(0,1))"
      ],
      "metadata": {
        "id": "1EYMBF6yRNRm"
      },
      "execution_count": 10,
      "outputs": []
    },
    {
      "cell_type": "code",
      "source": [
        "df_close = scaler.fit_transform(np.array(df_close).reshape(-1,1))\n",
        "df_close"
      ],
      "metadata": {
        "colab": {
          "base_uri": "https://localhost:8080/"
        },
        "id": "LXOKsbgMRTaP",
        "outputId": "cd6419ec-d82f-4dae-b01e-dedcfe1c9264"
      },
      "execution_count": 11,
      "outputs": [
        {
          "output_type": "execute_result",
          "data": {
            "text/plain": [
              "array([[0.16584967],\n",
              "       [0.16319444],\n",
              "       [0.1621732 ],\n",
              "       ...,\n",
              "       [0.62622549],\n",
              "       [0.62214052],\n",
              "       [0.62418301]])"
            ]
          },
          "metadata": {},
          "execution_count": 11
        }
      ]
    },
    {
      "cell_type": "code",
      "source": [
        "training_size = int(len(df_close)*0.70)\n",
        "test_size = len(df_close) - training_size\n",
        "train, test = df_close[0: training_size,:], df_close[training_size : len(df_close),:1]"
      ],
      "metadata": {
        "id": "Xn8IcSeNRazg"
      },
      "execution_count": 14,
      "outputs": []
    },
    {
      "cell_type": "code",
      "source": [
        "# Let us convert the array values previously calculated into a matrix\n",
        "def create_mat(ds, time_step = 1):\n",
        "    dataX, dataY = [], []\n",
        "    for i in range(len(ds)-time_step-1):\n",
        "        a = ds[i:(i+time_step),0]\n",
        "        dataX.append(a)\n",
        "        dataY.append(ds[i + time_step, 0])\n",
        "    return np.array(dataX), np.array(dataY)"
      ],
      "metadata": {
        "id": "3xt8OrKVRcjI"
      },
      "execution_count": 12,
      "outputs": []
    },
    {
      "cell_type": "code",
      "source": [
        "time_step = 100\n",
        "X_train, y_train = create_mat(train, time_step)\n",
        "X_test, y_test = create_mat(test, time_step)"
      ],
      "metadata": {
        "id": "XZIvqlZ3Rt3J"
      },
      "execution_count": 15,
      "outputs": []
    },
    {
      "cell_type": "code",
      "source": [
        "X_train.shape"
      ],
      "metadata": {
        "colab": {
          "base_uri": "https://localhost:8080/"
        },
        "id": "QQTSpCkBRwzB",
        "outputId": "2daefd30-1d1a-4e65-d4a2-560d30f67f00"
      },
      "execution_count": 16,
      "outputs": [
        {
          "output_type": "execute_result",
          "data": {
            "text/plain": [
              "(1323, 100)"
            ]
          },
          "metadata": {},
          "execution_count": 16
        }
      ]
    },
    {
      "cell_type": "code",
      "source": [
        "y_train.shape"
      ],
      "metadata": {
        "colab": {
          "base_uri": "https://localhost:8080/"
        },
        "id": "2WYVZ352R1qq",
        "outputId": "064f0379-2322-4ec6-935f-710e0398fbb5"
      },
      "execution_count": 17,
      "outputs": [
        {
          "output_type": "execute_result",
          "data": {
            "text/plain": [
              "(1323,)"
            ]
          },
          "metadata": {},
          "execution_count": 17
        }
      ]
    },
    {
      "cell_type": "code",
      "source": [
        "X_test.shape"
      ],
      "metadata": {
        "colab": {
          "base_uri": "https://localhost:8080/"
        },
        "id": "4cblt8BkR6Da",
        "outputId": "4a9cadaf-71fc-4889-8b79-8f27094530df"
      },
      "execution_count": 18,
      "outputs": [
        {
          "output_type": "execute_result",
          "data": {
            "text/plain": [
              "(510, 100)"
            ]
          },
          "metadata": {},
          "execution_count": 18
        }
      ]
    },
    {
      "cell_type": "code",
      "source": [
        "y_test.shape"
      ],
      "metadata": {
        "colab": {
          "base_uri": "https://localhost:8080/"
        },
        "id": "PYDeMSzOR8Rz",
        "outputId": "412e2b58-bd87-43c0-96c0-fef978b77826"
      },
      "execution_count": 19,
      "outputs": [
        {
          "output_type": "execute_result",
          "data": {
            "text/plain": [
              "(510,)"
            ]
          },
          "metadata": {},
          "execution_count": 19
        }
      ]
    },
    {
      "cell_type": "code",
      "source": [
        "X_train = X_train.reshape(X_train.shape[0], X_train.shape[1], 1)\n",
        "X_test = X_test.reshape(X_test.shape[0], X_test.shape[1], 1)"
      ],
      "metadata": {
        "id": "n20Vz1zxSArV"
      },
      "execution_count": 20,
      "outputs": []
    },
    {
      "cell_type": "markdown",
      "source": [
        "It is now time to Create the LSTM Model"
      ],
      "metadata": {
        "id": "BemcSV9DSCSb"
      }
    },
    {
      "cell_type": "code",
      "source": [
        "from tensorflow.keras.models import Sequential\n",
        "from tensorflow.keras.layers import Dense\n",
        "from tensorflow.keras.layers import LSTM"
      ],
      "metadata": {
        "id": "Ym5Csg5nSIo5"
      },
      "execution_count": 21,
      "outputs": []
    },
    {
      "cell_type": "code",
      "source": [
        "model = Sequential()\n",
        "model.add(LSTM(50,return_sequences=True,input_shape=(100,1)))\n",
        "model.add(LSTM(50,return_sequences=True))\n",
        "model.add(LSTM(50))\n",
        "model.add(Dense(1))\n",
        "model.compile(loss='mean_squared_error',optimizer='adam')\n",
        "model.summary()"
      ],
      "metadata": {
        "colab": {
          "base_uri": "https://localhost:8080/"
        },
        "id": "y6K2DTWNSLy1",
        "outputId": "b045578d-33ae-4bf2-b5da-0d4db7412b89"
      },
      "execution_count": 22,
      "outputs": [
        {
          "output_type": "stream",
          "name": "stdout",
          "text": [
            "Model: \"sequential\"\n",
            "_________________________________________________________________\n",
            " Layer (type)                Output Shape              Param #   \n",
            "=================================================================\n",
            " lstm (LSTM)                 (None, 100, 50)           10400     \n",
            "                                                                 \n",
            " lstm_1 (LSTM)               (None, 100, 50)           20200     \n",
            "                                                                 \n",
            " lstm_2 (LSTM)               (None, 50)                20200     \n",
            "                                                                 \n",
            " dense (Dense)               (None, 1)                 51        \n",
            "                                                                 \n",
            "=================================================================\n",
            "Total params: 50,851\n",
            "Trainable params: 50,851\n",
            "Non-trainable params: 0\n",
            "_________________________________________________________________\n"
          ]
        }
      ]
    },
    {
      "cell_type": "code",
      "source": [
        "model.fit(X_train, y_train, validation_split=0.1, epochs= 60, batch_size=64, verbose = 1)"
      ],
      "metadata": {
        "colab": {
          "base_uri": "https://localhost:8080/"
        },
        "id": "XM5yxQhGSTPf",
        "outputId": "80a874b2-5257-4266-d8db-f327d4664e6a"
      },
      "execution_count": 23,
      "outputs": [
        {
          "output_type": "stream",
          "name": "stdout",
          "text": [
            "Epoch 1/60\n",
            "19/19 [==============================] - 11s 273ms/step - loss: 0.0102 - val_loss: 0.0018\n",
            "Epoch 2/60\n",
            "19/19 [==============================] - 4s 200ms/step - loss: 0.0022 - val_loss: 0.0017\n",
            "Epoch 3/60\n",
            "19/19 [==============================] - 4s 208ms/step - loss: 0.0011 - val_loss: 0.0013\n",
            "Epoch 4/60\n",
            "19/19 [==============================] - 4s 199ms/step - loss: 8.9106e-04 - val_loss: 0.0012\n",
            "Epoch 5/60\n",
            "19/19 [==============================] - 4s 204ms/step - loss: 9.3205e-04 - val_loss: 0.0013\n",
            "Epoch 6/60\n",
            "19/19 [==============================] - 4s 203ms/step - loss: 8.3194e-04 - val_loss: 0.0011\n",
            "Epoch 7/60\n",
            "19/19 [==============================] - 4s 194ms/step - loss: 8.1514e-04 - val_loss: 0.0011\n",
            "Epoch 8/60\n",
            "19/19 [==============================] - 4s 194ms/step - loss: 7.9342e-04 - val_loss: 0.0010\n",
            "Epoch 9/60\n",
            "19/19 [==============================] - 4s 205ms/step - loss: 7.4207e-04 - val_loss: 9.7447e-04\n",
            "Epoch 10/60\n",
            "19/19 [==============================] - 4s 208ms/step - loss: 7.2132e-04 - val_loss: 9.3178e-04\n",
            "Epoch 11/60\n",
            "19/19 [==============================] - 4s 200ms/step - loss: 6.8950e-04 - val_loss: 8.6649e-04\n",
            "Epoch 12/60\n",
            "19/19 [==============================] - 4s 203ms/step - loss: 6.7101e-04 - val_loss: 8.2021e-04\n",
            "Epoch 13/60\n",
            "19/19 [==============================] - 4s 196ms/step - loss: 6.5469e-04 - val_loss: 7.7387e-04\n",
            "Epoch 14/60\n",
            "19/19 [==============================] - 4s 199ms/step - loss: 6.2065e-04 - val_loss: 7.4394e-04\n",
            "Epoch 15/60\n",
            "19/19 [==============================] - 4s 204ms/step - loss: 6.6648e-04 - val_loss: 9.0228e-04\n",
            "Epoch 16/60\n",
            "19/19 [==============================] - 4s 207ms/step - loss: 7.2360e-04 - val_loss: 6.9660e-04\n",
            "Epoch 17/60\n",
            "19/19 [==============================] - 4s 196ms/step - loss: 6.6860e-04 - val_loss: 7.6584e-04\n",
            "Epoch 18/60\n",
            "19/19 [==============================] - 4s 197ms/step - loss: 6.0347e-04 - val_loss: 6.6673e-04\n",
            "Epoch 19/60\n",
            "19/19 [==============================] - 4s 193ms/step - loss: 5.6003e-04 - val_loss: 6.8212e-04\n",
            "Epoch 20/60\n",
            "19/19 [==============================] - 4s 204ms/step - loss: 5.3782e-04 - val_loss: 6.2380e-04\n",
            "Epoch 21/60\n",
            "19/19 [==============================] - 4s 204ms/step - loss: 5.1230e-04 - val_loss: 5.6482e-04\n",
            "Epoch 22/60\n",
            "19/19 [==============================] - 4s 200ms/step - loss: 5.0552e-04 - val_loss: 5.3637e-04\n",
            "Epoch 23/60\n",
            "19/19 [==============================] - 4s 199ms/step - loss: 5.0654e-04 - val_loss: 5.4821e-04\n",
            "Epoch 24/60\n",
            "19/19 [==============================] - 4s 205ms/step - loss: 5.2705e-04 - val_loss: 5.4109e-04\n",
            "Epoch 25/60\n",
            "19/19 [==============================] - 4s 209ms/step - loss: 4.9685e-04 - val_loss: 5.4110e-04\n",
            "Epoch 26/60\n",
            "19/19 [==============================] - 4s 198ms/step - loss: 4.6271e-04 - val_loss: 5.5054e-04\n",
            "Epoch 27/60\n",
            "19/19 [==============================] - 4s 210ms/step - loss: 4.5896e-04 - val_loss: 5.4358e-04\n",
            "Epoch 28/60\n",
            "19/19 [==============================] - 4s 196ms/step - loss: 4.4061e-04 - val_loss: 4.6709e-04\n",
            "Epoch 29/60\n",
            "19/19 [==============================] - 4s 210ms/step - loss: 4.3257e-04 - val_loss: 4.4068e-04\n",
            "Epoch 30/60\n",
            "19/19 [==============================] - 4s 204ms/step - loss: 4.2569e-04 - val_loss: 4.3331e-04\n",
            "Epoch 31/60\n",
            "19/19 [==============================] - 4s 205ms/step - loss: 4.0492e-04 - val_loss: 4.2951e-04\n",
            "Epoch 32/60\n",
            "19/19 [==============================] - 4s 196ms/step - loss: 3.9512e-04 - val_loss: 4.1060e-04\n",
            "Epoch 33/60\n",
            "19/19 [==============================] - 4s 205ms/step - loss: 3.9819e-04 - val_loss: 3.8229e-04\n",
            "Epoch 34/60\n",
            "19/19 [==============================] - 4s 205ms/step - loss: 3.7359e-04 - val_loss: 3.7246e-04\n",
            "Epoch 35/60\n",
            "19/19 [==============================] - 4s 206ms/step - loss: 3.7277e-04 - val_loss: 3.5497e-04\n",
            "Epoch 36/60\n",
            "19/19 [==============================] - 4s 212ms/step - loss: 3.5225e-04 - val_loss: 3.4680e-04\n",
            "Epoch 37/60\n",
            "19/19 [==============================] - 4s 210ms/step - loss: 3.4601e-04 - val_loss: 3.3181e-04\n",
            "Epoch 38/60\n",
            "19/19 [==============================] - 4s 204ms/step - loss: 3.3178e-04 - val_loss: 3.2793e-04\n",
            "Epoch 39/60\n",
            "19/19 [==============================] - 4s 192ms/step - loss: 3.4633e-04 - val_loss: 3.0317e-04\n",
            "Epoch 40/60\n",
            "19/19 [==============================] - 4s 206ms/step - loss: 3.2077e-04 - val_loss: 3.1271e-04\n",
            "Epoch 41/60\n",
            "19/19 [==============================] - 4s 199ms/step - loss: 3.2710e-04 - val_loss: 3.0651e-04\n",
            "Epoch 42/60\n",
            "19/19 [==============================] - 4s 206ms/step - loss: 3.1628e-04 - val_loss: 3.6652e-04\n",
            "Epoch 43/60\n",
            "19/19 [==============================] - 4s 207ms/step - loss: 3.0209e-04 - val_loss: 4.2626e-04\n",
            "Epoch 44/60\n",
            "19/19 [==============================] - 4s 196ms/step - loss: 3.0291e-04 - val_loss: 2.5439e-04\n",
            "Epoch 45/60\n",
            "19/19 [==============================] - 4s 210ms/step - loss: 2.7010e-04 - val_loss: 2.4536e-04\n",
            "Epoch 46/60\n",
            "19/19 [==============================] - 4s 212ms/step - loss: 2.8136e-04 - val_loss: 2.3263e-04\n",
            "Epoch 47/60\n",
            "19/19 [==============================] - 4s 209ms/step - loss: 2.8296e-04 - val_loss: 2.4351e-04\n",
            "Epoch 48/60\n",
            "19/19 [==============================] - 4s 204ms/step - loss: 2.7438e-04 - val_loss: 2.5392e-04\n",
            "Epoch 49/60\n",
            "19/19 [==============================] - 4s 203ms/step - loss: 2.8712e-04 - val_loss: 2.3452e-04\n",
            "Epoch 50/60\n",
            "19/19 [==============================] - 4s 200ms/step - loss: 2.7036e-04 - val_loss: 3.2271e-04\n",
            "Epoch 51/60\n",
            "19/19 [==============================] - 4s 192ms/step - loss: 2.6661e-04 - val_loss: 2.5510e-04\n",
            "Epoch 52/60\n",
            "19/19 [==============================] - 4s 201ms/step - loss: 2.5929e-04 - val_loss: 2.0527e-04\n",
            "Epoch 53/60\n",
            "19/19 [==============================] - 4s 193ms/step - loss: 2.4199e-04 - val_loss: 2.4970e-04\n",
            "Epoch 54/60\n",
            "19/19 [==============================] - 4s 189ms/step - loss: 2.3751e-04 - val_loss: 2.3364e-04\n",
            "Epoch 55/60\n",
            "19/19 [==============================] - 4s 201ms/step - loss: 2.5257e-04 - val_loss: 2.6588e-04\n",
            "Epoch 56/60\n",
            "19/19 [==============================] - 4s 207ms/step - loss: 2.2778e-04 - val_loss: 1.9841e-04\n",
            "Epoch 57/60\n",
            "19/19 [==============================] - 4s 208ms/step - loss: 2.1521e-04 - val_loss: 1.8795e-04\n",
            "Epoch 58/60\n",
            "19/19 [==============================] - 4s 208ms/step - loss: 2.0566e-04 - val_loss: 1.7848e-04\n",
            "Epoch 59/60\n",
            "19/19 [==============================] - 4s 206ms/step - loss: 2.1089e-04 - val_loss: 1.7601e-04\n",
            "Epoch 60/60\n",
            "19/19 [==============================] - 4s 208ms/step - loss: 2.0095e-04 - val_loss: 2.0179e-04\n"
          ]
        },
        {
          "output_type": "execute_result",
          "data": {
            "text/plain": [
              "<keras.callbacks.History at 0x7eff12e1c850>"
            ]
          },
          "metadata": {},
          "execution_count": 23
        }
      ]
    },
    {
      "cell_type": "markdown",
      "source": [
        "Now, it is time to Predict"
      ],
      "metadata": {
        "id": "bqJQz_lGSkVt"
      }
    },
    {
      "cell_type": "code",
      "source": [
        "predictions = model.predict(X_test)"
      ],
      "metadata": {
        "id": "AK9mUjj5SrTy"
      },
      "execution_count": 24,
      "outputs": []
    },
    {
      "cell_type": "code",
      "source": [
        "# performing inverse transform on predictions\n",
        "inv_predictions = scaler.inverse_transform(predictions)"
      ],
      "metadata": {
        "id": "_dUQZ5nSSv6K"
      },
      "execution_count": 25,
      "outputs": []
    },
    {
      "cell_type": "code",
      "source": [
        "inv_predictions"
      ],
      "metadata": {
        "colab": {
          "base_uri": "https://localhost:8080/"
        },
        "id": "2queuiXvSzDF",
        "outputId": "8898bd06-83b9-49a3-8dcd-5f62dfb638b6"
      },
      "execution_count": 26,
      "outputs": [
        {
          "output_type": "execute_result",
          "data": {
            "text/plain": [
              "array([[143.15851 ],\n",
              "       [143.34416 ],\n",
              "       [142.4768  ],\n",
              "       [139.85487 ],\n",
              "       [138.10612 ],\n",
              "       [137.52808 ],\n",
              "       [138.69942 ],\n",
              "       [140.35147 ],\n",
              "       [140.85275 ],\n",
              "       [140.4767  ],\n",
              "       [140.1306  ],\n",
              "       [141.17682 ],\n",
              "       [141.99281 ],\n",
              "       [143.54765 ],\n",
              "       [145.73781 ],\n",
              "       [143.93987 ],\n",
              "       [141.44205 ],\n",
              "       [140.89066 ],\n",
              "       [141.51955 ],\n",
              "       [146.45125 ],\n",
              "       [151.07683 ],\n",
              "       [153.41342 ],\n",
              "       [153.70662 ],\n",
              "       [151.52974 ],\n",
              "       [151.06879 ],\n",
              "       [150.8603  ],\n",
              "       [151.36156 ],\n",
              "       [153.1302  ],\n",
              "       [154.0143  ],\n",
              "       [154.05327 ],\n",
              "       [154.35071 ],\n",
              "       [153.19481 ],\n",
              "       [149.97722 ],\n",
              "       [144.32877 ],\n",
              "       [140.76067 ],\n",
              "       [139.71864 ],\n",
              "       [139.9413  ],\n",
              "       [139.25903 ],\n",
              "       [136.98062 ],\n",
              "       [133.23134 ],\n",
              "       [130.49898 ],\n",
              "       [129.1633  ],\n",
              "       [127.152115],\n",
              "       [126.28744 ],\n",
              "       [124.36736 ],\n",
              "       [121.804924],\n",
              "       [120.96403 ],\n",
              "       [120.66068 ],\n",
              "       [120.935265],\n",
              "       [120.14468 ],\n",
              "       [119.28087 ],\n",
              "       [118.81778 ],\n",
              "       [118.02966 ],\n",
              "       [118.08984 ],\n",
              "       [119.3446  ],\n",
              "       [121.15077 ],\n",
              "       [123.14233 ],\n",
              "       [124.04863 ],\n",
              "       [123.8621  ],\n",
              "       [123.768585],\n",
              "       [123.83592 ],\n",
              "       [123.670006],\n",
              "       [123.846016],\n",
              "       [124.25759 ],\n",
              "       [124.523346],\n",
              "       [124.61787 ],\n",
              "       [124.451805],\n",
              "       [124.70023 ],\n",
              "       [125.132744],\n",
              "       [125.501045],\n",
              "       [124.82397 ],\n",
              "       [123.82577 ],\n",
              "       [122.44967 ],\n",
              "       [121.1485  ],\n",
              "       [119.82166 ],\n",
              "       [119.831894],\n",
              "       [120.410286],\n",
              "       [121.40814 ],\n",
              "       [122.54347 ],\n",
              "       [123.791466],\n",
              "       [124.952095],\n",
              "       [125.666275],\n",
              "       [126.08115 ],\n",
              "       [126.06298 ],\n",
              "       [125.839966],\n",
              "       [125.53279 ],\n",
              "       [126.20781 ],\n",
              "       [126.617836],\n",
              "       [127.57594 ],\n",
              "       [128.43076 ],\n",
              "       [128.89087 ],\n",
              "       [129.30644 ],\n",
              "       [130.18013 ],\n",
              "       [129.82753 ],\n",
              "       [129.25171 ],\n",
              "       [129.05588 ],\n",
              "       [129.15913 ],\n",
              "       [129.63155 ],\n",
              "       [130.53192 ],\n",
              "       [130.87714 ],\n",
              "       [131.11134 ],\n",
              "       [133.60805 ],\n",
              "       [138.0236  ],\n",
              "       [142.1449  ],\n",
              "       [144.0205  ],\n",
              "       [145.42096 ],\n",
              "       [145.49104 ],\n",
              "       [144.82101 ],\n",
              "       [143.4591  ],\n",
              "       [142.11157 ],\n",
              "       [140.60063 ],\n",
              "       [140.13889 ],\n",
              "       [140.56471 ],\n",
              "       [141.79402 ],\n",
              "       [142.97284 ],\n",
              "       [143.05159 ],\n",
              "       [142.20525 ],\n",
              "       [141.11102 ],\n",
              "       [140.04073 ],\n",
              "       [141.26917 ],\n",
              "       [142.45108 ],\n",
              "       [143.68341 ],\n",
              "       [144.4462  ],\n",
              "       [144.45581 ],\n",
              "       [143.59305 ],\n",
              "       [142.42836 ],\n",
              "       [140.34367 ],\n",
              "       [139.41548 ],\n",
              "       [140.07951 ],\n",
              "       [142.61603 ],\n",
              "       [145.17482 ],\n",
              "       [147.17926 ],\n",
              "       [147.89185 ],\n",
              "       [146.61603 ],\n",
              "       [147.88812 ],\n",
              "       [150.11192 ],\n",
              "       [150.7689  ],\n",
              "       [150.94948 ],\n",
              "       [151.01646 ],\n",
              "       [150.90517 ],\n",
              "       [150.94383 ],\n",
              "       [151.6237  ],\n",
              "       [152.69136 ],\n",
              "       [153.6617  ],\n",
              "       [153.2332  ],\n",
              "       [152.39397 ],\n",
              "       [152.76233 ],\n",
              "       [153.02608 ],\n",
              "       [152.53047 ],\n",
              "       [151.46068 ],\n",
              "       [150.1175  ],\n",
              "       [150.01367 ],\n",
              "       [151.37506 ],\n",
              "       [152.52051 ],\n",
              "       [153.1789  ],\n",
              "       [153.21269 ],\n",
              "       [153.69612 ],\n",
              "       [153.60631 ],\n",
              "       [153.56096 ],\n",
              "       [155.38794 ],\n",
              "       [156.86374 ],\n",
              "       [157.01799 ],\n",
              "       [155.26328 ],\n",
              "       [153.52141 ],\n",
              "       [153.28967 ],\n",
              "       [154.2847  ],\n",
              "       [155.07648 ],\n",
              "       [154.82838 ],\n",
              "       [154.94368 ],\n",
              "       [155.23497 ],\n",
              "       [154.81091 ],\n",
              "       [152.08101 ],\n",
              "       [150.13849 ],\n",
              "       [148.97743 ],\n",
              "       [147.47835 ],\n",
              "       [145.22891 ],\n",
              "       [144.03465 ],\n",
              "       [145.33675 ],\n",
              "       [146.80486 ],\n",
              "       [147.56038 ],\n",
              "       [148.97697 ],\n",
              "       [151.31526 ],\n",
              "       [154.00475 ],\n",
              "       [155.6697  ],\n",
              "       [155.24223 ],\n",
              "       [154.91676 ],\n",
              "       [154.62198 ],\n",
              "       [154.41566 ],\n",
              "       [153.52945 ],\n",
              "       [154.44421 ],\n",
              "       [156.87665 ],\n",
              "       [159.24757 ],\n",
              "       [160.1162  ],\n",
              "       [159.1172  ],\n",
              "       [157.88828 ],\n",
              "       [157.20702 ],\n",
              "       [156.3012  ],\n",
              "       [154.2209  ],\n",
              "       [151.01775 ],\n",
              "       [149.44476 ],\n",
              "       [149.23933 ],\n",
              "       [150.50325 ],\n",
              "       [152.25853 ],\n",
              "       [152.79163 ],\n",
              "       [154.67696 ],\n",
              "       [155.45819 ],\n",
              "       [156.79417 ],\n",
              "       [161.3795  ],\n",
              "       [166.85306 ],\n",
              "       [171.79329 ],\n",
              "       [174.77779 ],\n",
              "       [174.82137 ],\n",
              "       [174.7329  ],\n",
              "       [173.50017 ],\n",
              "       [173.08333 ],\n",
              "       [171.88145 ],\n",
              "       [171.4744  ],\n",
              "       [170.97015 ],\n",
              "       [171.27623 ],\n",
              "       [172.39598 ],\n",
              "       [171.63034 ],\n",
              "       [170.55392 ],\n",
              "       [170.10042 ],\n",
              "       [169.1827  ],\n",
              "       [167.29378 ],\n",
              "       [166.48936 ],\n",
              "       [166.53123 ],\n",
              "       [168.5636  ],\n",
              "       [168.57854 ],\n",
              "       [165.70602 ],\n",
              "       [160.33792 ],\n",
              "       [159.92947 ],\n",
              "       [168.51247 ],\n",
              "       [184.01465 ],\n",
              "       [193.4404  ],\n",
              "       [195.92729 ],\n",
              "       [194.71191 ],\n",
              "       [189.56609 ],\n",
              "       [188.85646 ],\n",
              "       [189.97049 ],\n",
              "       [190.9558  ],\n",
              "       [190.29005 ],\n",
              "       [193.00174 ],\n",
              "       [196.55072 ],\n",
              "       [198.12302 ],\n",
              "       [195.68427 ],\n",
              "       [194.60077 ],\n",
              "       [199.52452 ],\n",
              "       [203.96532 ],\n",
              "       [205.72098 ],\n",
              "       [206.44371 ],\n",
              "       [207.79535 ],\n",
              "       [206.08887 ],\n",
              "       [206.59882 ],\n",
              "       [207.25049 ],\n",
              "       [209.0316  ],\n",
              "       [211.90376 ],\n",
              "       [212.16164 ],\n",
              "       [210.35611 ],\n",
              "       [203.08545 ],\n",
              "       [195.86595 ],\n",
              "       [197.68155 ],\n",
              "       [199.05063 ],\n",
              "       [201.34224 ],\n",
              "       [204.07262 ],\n",
              "       [205.41835 ],\n",
              "       [204.24953 ],\n",
              "       [204.86682 ],\n",
              "       [205.8754  ],\n",
              "       [205.5393  ],\n",
              "       [204.93076 ],\n",
              "       [205.2535  ],\n",
              "       [207.2799  ],\n",
              "       [207.92984 ],\n",
              "       [207.28252 ],\n",
              "       [207.03862 ],\n",
              "       [205.37163 ],\n",
              "       [202.99998 ],\n",
              "       [201.14973 ],\n",
              "       [204.19055 ],\n",
              "       [205.13588 ],\n",
              "       [206.70467 ],\n",
              "       [213.3149  ],\n",
              "       [221.14018 ],\n",
              "       [224.1482  ],\n",
              "       [223.42683 ],\n",
              "       [220.964   ],\n",
              "       [219.02301 ],\n",
              "       [224.10463 ],\n",
              "       [223.60625 ],\n",
              "       [220.99814 ],\n",
              "       [228.83734 ],\n",
              "       [233.3618  ],\n",
              "       [232.04732 ],\n",
              "       [236.48761 ],\n",
              "       [242.60551 ],\n",
              "       [245.3137  ],\n",
              "       [249.32976 ],\n",
              "       [259.7993  ],\n",
              "       [264.02347 ],\n",
              "       [263.2892  ],\n",
              "       [262.27164 ],\n",
              "       [264.75375 ],\n",
              "       [266.32877 ],\n",
              "       [273.02783 ],\n",
              "       [272.23828 ],\n",
              "       [273.79654 ],\n",
              "       [273.1432  ],\n",
              "       [269.4734  ],\n",
              "       [268.42386 ],\n",
              "       [266.18454 ],\n",
              "       [270.83792 ],\n",
              "       [276.84586 ],\n",
              "       [284.17322 ],\n",
              "       [279.41162 ],\n",
              "       [272.09152 ],\n",
              "       [269.91812 ],\n",
              "       [272.89575 ],\n",
              "       [277.7986  ],\n",
              "       [285.51163 ],\n",
              "       [288.0297  ],\n",
              "       [286.18094 ],\n",
              "       [286.0289  ],\n",
              "       [288.61496 ],\n",
              "       [289.8796  ],\n",
              "       [290.6142  ],\n",
              "       [296.95624 ],\n",
              "       [297.87515 ],\n",
              "       [295.30148 ],\n",
              "       [294.11844 ],\n",
              "       [295.2186  ],\n",
              "       [296.696   ],\n",
              "       [300.0711  ],\n",
              "       [299.8423  ],\n",
              "       [297.9021  ],\n",
              "       [296.62698 ],\n",
              "       [304.37454 ],\n",
              "       [306.61374 ],\n",
              "       [301.0354  ],\n",
              "       [296.1996  ],\n",
              "       [290.77432 ],\n",
              "       [291.71832 ],\n",
              "       [294.31577 ],\n",
              "       [294.06433 ],\n",
              "       [291.10944 ],\n",
              "       [289.55414 ],\n",
              "       [287.9282  ],\n",
              "       [288.75204 ],\n",
              "       [281.13507 ],\n",
              "       [275.58856 ],\n",
              "       [266.88855 ],\n",
              "       [263.05817 ],\n",
              "       [259.90057 ],\n",
              "       [267.49835 ],\n",
              "       [272.36392 ],\n",
              "       [270.23697 ],\n",
              "       [271.17056 ],\n",
              "       [270.07288 ],\n",
              "       [267.00903 ],\n",
              "       [263.7271  ],\n",
              "       [258.5383  ],\n",
              "       [253.98041 ],\n",
              "       [255.88016 ],\n",
              "       [255.91821 ],\n",
              "       [260.30103 ],\n",
              "       [264.3698  ],\n",
              "       [265.5885  ],\n",
              "       [264.85315 ],\n",
              "       [263.44003 ],\n",
              "       [263.35492 ],\n",
              "       [263.02927 ],\n",
              "       [259.89865 ],\n",
              "       [261.303   ],\n",
              "       [260.39432 ],\n",
              "       [264.07806 ],\n",
              "       [267.89862 ],\n",
              "       [268.73584 ],\n",
              "       [268.45773 ],\n",
              "       [263.5899  ],\n",
              "       [253.73639 ],\n",
              "       [251.04428 ],\n",
              "       [253.93451 ],\n",
              "       [253.79872 ],\n",
              "       [252.01576 ],\n",
              "       [253.50766 ],\n",
              "       [255.61151 ],\n",
              "       [252.79509 ],\n",
              "       [261.00613 ],\n",
              "       [265.4676  ],\n",
              "       [261.95502 ],\n",
              "       [260.18637 ],\n",
              "       [260.509   ],\n",
              "       [264.55167 ],\n",
              "       [265.67044 ],\n",
              "       [264.13315 ],\n",
              "       [263.19894 ],\n",
              "       [264.39108 ],\n",
              "       [267.9727  ],\n",
              "       [270.36987 ],\n",
              "       [272.3434  ],\n",
              "       [273.88474 ],\n",
              "       [274.07132 ],\n",
              "       [272.03177 ],\n",
              "       [270.73975 ],\n",
              "       [274.61002 ],\n",
              "       [278.55255 ],\n",
              "       [279.92252 ],\n",
              "       [282.74692 ],\n",
              "       [280.86758 ],\n",
              "       [275.1643  ],\n",
              "       [273.7868  ],\n",
              "       [279.15283 ],\n",
              "       [279.66077 ],\n",
              "       [279.53763 ],\n",
              "       [275.22836 ],\n",
              "       [274.29163 ],\n",
              "       [255.52484 ],\n",
              "       [237.51172 ],\n",
              "       [233.60068 ],\n",
              "       [241.17148 ],\n",
              "       [244.64319 ],\n",
              "       [242.54861 ],\n",
              "       [241.44391 ],\n",
              "       [242.42285 ],\n",
              "       [245.07198 ],\n",
              "       [247.80246 ],\n",
              "       [249.94702 ],\n",
              "       [248.42963 ],\n",
              "       [251.05327 ],\n",
              "       [256.43515 ],\n",
              "       [255.46837 ],\n",
              "       [248.52132 ],\n",
              "       [250.41881 ],\n",
              "       [255.7349  ],\n",
              "       [259.04892 ],\n",
              "       [259.1905  ],\n",
              "       [256.2319  ],\n",
              "       [256.78625 ],\n",
              "       [259.39124 ],\n",
              "       [265.55072 ],\n",
              "       [264.82272 ],\n",
              "       [264.0918  ],\n",
              "       [259.107   ],\n",
              "       [252.75359 ],\n",
              "       [249.53789 ],\n",
              "       [252.48758 ],\n",
              "       [256.8154  ],\n",
              "       [259.81982 ],\n",
              "       [258.7428  ],\n",
              "       [255.72182 ],\n",
              "       [257.36484 ],\n",
              "       [256.29538 ],\n",
              "       [264.89996 ],\n",
              "       [268.2207  ],\n",
              "       [263.22876 ],\n",
              "       [256.49823 ],\n",
              "       [260.1677  ],\n",
              "       [264.51315 ],\n",
              "       [262.68677 ],\n",
              "       [257.57635 ],\n",
              "       [251.65971 ],\n",
              "       [240.51945 ],\n",
              "       [238.94089 ],\n",
              "       [236.50256 ],\n",
              "       [231.79372 ],\n",
              "       [232.8002  ],\n",
              "       [237.52168 ],\n",
              "       [241.18654 ],\n",
              "       [235.66791 ],\n",
              "       [231.51915 ],\n",
              "       [232.6435  ],\n",
              "       [234.67174 ],\n",
              "       [238.22795 ],\n",
              "       [233.43901 ],\n",
              "       [228.87976 ],\n",
              "       [227.62721 ],\n",
              "       [231.38448 ],\n",
              "       [233.3472  ],\n",
              "       [232.44899 ],\n",
              "       [231.71964 ],\n",
              "       [229.39569 ],\n",
              "       [228.55127 ],\n",
              "       [230.62602 ],\n",
              "       [233.34323 ],\n",
              "       [236.3987  ],\n",
              "       [238.62747 ],\n",
              "       [236.22147 ],\n",
              "       [230.78848 ],\n",
              "       [225.7014  ],\n",
              "       [228.05603 ],\n",
              "       [229.64998 ],\n",
              "       [230.40541 ],\n",
              "       [231.26106 ],\n",
              "       [230.47974 ],\n",
              "       [230.78128 ],\n",
              "       [223.74162 ],\n",
              "       [217.88042 ],\n",
              "       [216.0344  ],\n",
              "       [218.00015 ],\n",
              "       [219.48895 ],\n",
              "       [216.27019 ],\n",
              "       [216.92293 ],\n",
              "       [224.92532 ],\n",
              "       [231.57277 ],\n",
              "       [231.79556 ],\n",
              "       [229.12517 ],\n",
              "       [227.11545 ],\n",
              "       [226.15463 ],\n",
              "       [228.09918 ],\n",
              "       [229.14098 ]], dtype=float32)"
            ]
          },
          "metadata": {},
          "execution_count": 26
        }
      ]
    },
    {
      "cell_type": "code",
      "source": [
        "import math\n",
        "from sklearn.metrics import mean_squared_error"
      ],
      "metadata": {
        "id": "5Zu-ld5bS2wQ"
      },
      "execution_count": 27,
      "outputs": []
    },
    {
      "cell_type": "code",
      "source": [
        "mse = math.sqrt(mean_squared_error(y_test, predictions))\n",
        "print(\"The Mean Squared Error for above model is: \", mse)"
      ],
      "metadata": {
        "colab": {
          "base_uri": "https://localhost:8080/"
        },
        "id": "WeeNqri9S47p",
        "outputId": "d9af652f-03f6-415d-e95d-59690ce0f87b"
      },
      "execution_count": 28,
      "outputs": [
        {
          "output_type": "stream",
          "name": "stdout",
          "text": [
            "The Mean Squared Error for above model is:  0.03446368171043809\n"
          ]
        }
      ]
    }
  ]
}